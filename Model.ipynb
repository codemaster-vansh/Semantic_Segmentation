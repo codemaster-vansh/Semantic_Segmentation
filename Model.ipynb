{
 "cells": [
  {
   "cell_type": "markdown",
   "id": "69d12f8e",
   "metadata": {},
   "source": [
    "# Semantic Segmentation"
   ]
  },
  {
   "cell_type": "markdown",
   "id": "8a9ad32e",
   "metadata": {},
   "source": [
    "#### 1) Here we will dive into how to train your own UNet Model with a good real time accuracy"
   ]
  },
  {
   "cell_type": "code",
   "execution_count": null,
   "id": "ad3b49d7",
   "metadata": {},
   "outputs": [],
   "source": [
    "import os\n",
    "import torch\n",
    "import tqdm\n",
    "import numpy as np\n",
    "import torch.nn as nn\n",
    "import torch.optim as optim\n",
    "import matplotlib.pyplot as plt\n",
    "from torch.utils.data import DataLoader, random_split\n",
    "from torchvision.utils import save_image\n",
    "from utils import PairedImageDataset, UNet, class_indices_to_rgb, save_preds\n",
    "\n",
    "check = torch.manual_seed(0)"
   ]
  },
  {
   "cell_type": "markdown",
   "id": "d41d4bc1",
   "metadata": {},
   "source": [
    "USER VARIABLES"
   ]
  },
  {
   "cell_type": "code",
   "execution_count": null,
   "id": "8659561e",
   "metadata": {},
   "outputs": [],
   "source": [
    "input_dir = r''\n",
    "output_dir = r''\n",
    "height = 0 # of Input image\n",
    "width = 0 # of Output image\n",
    "batch_size = 0\n",
    "file_extension = ''\n",
    "\n",
    "#TRAINING\n",
    "\n",
    "train_split = 0\n",
    "val_split = 0 \n",
    "test_split = 0\n",
    "\n",
    "assert abs((train_split + val_split + test_split) - 1.0) < 1e-6, \"splits must sum to 1\""
   ]
  },
  {
   "cell_type": "code",
   "execution_count": null,
   "id": "5c51e130",
   "metadata": {},
   "outputs": [],
   "source": [
    "dataset = PairedImageDataset(input_dir,output_dir,height,width,file_extension)"
   ]
  },
  {
   "cell_type": "code",
   "execution_count": null,
   "id": "83d05599",
   "metadata": {},
   "outputs": [],
   "source": [
    "dataset_size = len(dataset)\n",
    "\n",
    "train_size = int(dataset_size * train_split)\n",
    "val_size = int(dataset_size * val_split)\n",
    "test_size = dataset_size - train_size - val_size  # ensures all samples are used\n",
    "\n",
    "print(f\"Full dataset has {dataset_size} samples.\")\n",
    "print(f\"Splitting into {train_size} training samples, {val_size} validation samples, and {test_size} testing samples.\")"
   ]
  },
  {
   "cell_type": "code",
   "execution_count": null,
   "id": "760da99c",
   "metadata": {},
   "outputs": [],
   "source": [
    "train_dataset, val_dataset, test_dataset = random_split(\n",
    "    dataset, [train_split, val_split, test_split]\n",
    ")\n",
    "\n",
    "train_loader = DataLoader(train_dataset,batch_size=batch_size,shuffle=True)\n",
    "test_loader = DataLoader(test_dataset,batch_size=batch_size,shuffle=True)\n",
    "val_loader = DataLoader(val_dataset,batch_size=batch_size,shuffle=True)"
   ]
  },
  {
   "cell_type": "markdown",
   "id": "459f1f16",
   "metadata": {},
   "source": [
    "### Training Loop"
   ]
  },
  {
   "cell_type": "code",
   "execution_count": null,
   "id": "85df6240",
   "metadata": {},
   "outputs": [],
   "source": [
    "if torch.cuda.is_available():\n",
    "    device = torch.device('cuda')\n",
    "    check = True\n",
    "else:\n",
    "    device = torch.device('cpu')\n",
    "    check = False\n",
    "num_channels = dataset.num_masks\n",
    "model = UNet(num_channels=num_channels).to(device)\n",
    "criterion = nn.CrossEntropyLoss()\n",
    "optimizer = optim.Adam(model.parameters(),lr=0.001)"
   ]
  },
  {
   "cell_type": "code",
   "execution_count": null,
   "id": "c46f19aa",
   "metadata": {},
   "outputs": [],
   "source": [
    "scheduler = optim.lr_scheduler.ReduceLROnPlateau(\n",
    "    optimizer,\n",
    "    mode='min',\n",
    "    factor=0.5,\n",
    "    patience=5,\n",
    "    verbose=True,\n",
    "    min_lr=1e-6\n",
    ")"
   ]
  },
  {
   "cell_type": "code",
   "execution_count": null,
   "id": "95c9df12",
   "metadata": {},
   "outputs": [],
   "source": [
    "num_epochs = 0 # Adjust\n",
    "train_losses = []\n",
    "val_losses = []\n",
    "learning_rates = []\n",
    "best_loss = float('inf')\n",
    "train_loader_size = len(train_loader)\n",
    "val_loader_size = len(val_loader)\n",
    "test_loader_size = len(test_loader)\n",
    "\n",
    "print(\"Training on {device}\")"
   ]
  },
  {
   "cell_type": "code",
   "execution_count": null,
   "id": "df7c4cac",
   "metadata": {},
   "outputs": [],
   "source": [
    "for epoch in range(num_epochs):\n",
    "    model.train()\n",
    "    train_loss = 0.0\n",
    "\n",
    "    for inputs, targets in tqdm(train_loader,desc=f'Epoch: {epoch + 1}/{num_epochs} - Training'):\n",
    "        inputs, targets = inputs.to(device), targets.to(device)\n",
    "\n",
    "        if targets.dim() == 4 and targets.shape[1] == 1:\n",
    "            targets.squeeze(1)\n",
    "        targets = targets.long()\n",
    "\n",
    "        optimizer.zero_grad()\n",
    "        outputs = model(inputs)\n",
    "\n",
    "        if outputs.shape[2:] != targets.shape[1:]:\n",
    "            outputs = nn.functional.interpolate(\n",
    "                outputs,\n",
    "                size=(targets.shape[1],targets.shape[2]),\n",
    "                mode='bilinear',\n",
    "                align_corners=False\n",
    "            )\n",
    "\n",
    "        loss = criterion(outputs,targets)\n",
    "\n",
    "        loss.backward()\n",
    "        nn.utils.clip_grad_norm_(model.parameters(),max_norm=1.0)\n",
    "        optimizer.step()\n",
    "\n",
    "        train_loss += loss.item()\n",
    "\n",
    "    model.eval()\n",
    "    val_loss = 0.0\n",
    "\n",
    "    with torch.no_grad():\n",
    "        for inputs, targets in tqdm(val_loader,desc=f'Epoch: {epoch + 1}/{num_epochs} - Validation'):\n",
    "            inputs, targets = inputs.to(device), targets.to(device)\n",
    "\n",
    "            if targets.dim() == 4 and targets.shape[1] == 1:\n",
    "                targets.squeeze(1)\n",
    "            targets = targets.long()\n",
    "\n",
    "            outputs = model(inputs)\n",
    "\n",
    "            if outputs.shape[2:] != targets.shape[1:]:\n",
    "                outputs = nn.functional.interpolate(\n",
    "                    outputs,\n",
    "                    size=(targets.shape[1],targets.shape[2]),\n",
    "                    mode='bilinear',\n",
    "                    align_corners=False\n",
    "                )\n",
    "\n",
    "            loss = criterion(outputs,targets)\n",
    "            val_loss += loss.item()\n",
    "\n",
    "    avg_train_loss = float(train_loss/train_loader_size)\n",
    "    avg_val_loss = float(val_loss/val_loader_size)\n",
    "\n",
    "    scheduler.step(avg_val_loss)\n",
    "    learning_rates.append(optimizer.param_groups[0]['lr'])\n",
    "\n",
    "    train_losses.append(avg_train_loss)\n",
    "    val_losses.append(val_loader_size)\n",
    "\n",
    "    print(f\"Epoch {epoch+1}: Train Loss = {avg_train_loss:.4f}, Val Loss = {avg_val_loss:.4f}\")\n",
    "\n",
    "    if avg_val_loss < best_loss:\n",
    "        best_loss = avg_val_loss\n",
    "        torch.save(model.state_dict(),'best_model.pth')\n",
    "        print(f\"✓ Best model saved with loss: {best_loss:.4f}\")\n",
    "        if check:\n",
    "            torch.cuda.empty_cache()"
   ]
  },
  {
   "cell_type": "code",
   "execution_count": null,
   "id": "616b7469",
   "metadata": {},
   "outputs": [],
   "source": [
    "# Save final model\n",
    "torch.save(model.state_dict(), 'final_model.pth')\n",
    "print(\"Training completed!\")"
   ]
  },
  {
   "cell_type": "code",
   "execution_count": null,
   "id": "976b355f",
   "metadata": {},
   "outputs": [],
   "source": [
    "# Plot results\n",
    "fig, (ax1, ax2) = plt.subplots(1, 2, figsize=(15, 5))\n",
    "\n",
    "# Loss plot\n",
    "ax1.plot(train_losses, label='Training Loss')\n",
    "ax1.plot(val_losses, label='Validation Loss')\n",
    "ax1.set_xlabel('Epoch')\n",
    "ax1.set_ylabel('Loss')\n",
    "ax1.set_title('Training Progress')\n",
    "ax1.legend()\n",
    "ax1.grid(True)\n",
    "\n",
    "# Learning rate plot\n",
    "ax2.plot(learning_rates, label='Learning Rate', color='green')\n",
    "ax2.set_xlabel('Epoch')\n",
    "ax2.set_ylabel('Learning Rate')\n",
    "ax2.set_title('Learning Rate Schedule')\n",
    "ax2.legend()\n",
    "ax2.grid(True)\n",
    "ax2.set_yscale('log')  # Log scale for better visualization\n",
    "\n",
    "plt.tight_layout()\n",
    "plt.show()\n",
    "\n",
    "if learning_rates:\n",
    "    print(f\"Final learning rate: {learning_rates[-1]:.6f}\")\n",
    "else:\n",
    "    print(\"No learning rate data recorded\")"
   ]
  },
  {
   "cell_type": "markdown",
   "id": "9dc7d3cc",
   "metadata": {},
   "source": [
    "### Evaluation"
   ]
  },
  {
   "cell_type": "code",
   "execution_count": null,
   "id": "9e029fca",
   "metadata": {},
   "outputs": [],
   "source": [
    "model.eval()\n",
    "\n",
    "test_loss = 0.0\n",
    "with torch.no_grad():\n",
    "    for inputs, targets in tqdm(test_loader,desc=\"Testing\"):\n",
    "        inputs, targets1 = inputs.to(inputs), targets.to(targets)\n",
    "\n",
    "        if targets.dim() == 4 and targets.shape[1] == 1:\n",
    "            targets = targets.squeeze(1)\n",
    "        targets = targets.long()\n",
    "\n",
    "        outputs = model(inputs)\n",
    "\n",
    "        if outputs.shape[2:] != targets1.shape[1:]:\n",
    "            outputs = nn.functional.interpolate(\n",
    "                outputs, \n",
    "                size=(targets1.shape[1], targets1.shape[2]), \n",
    "                mode='bilinear', \n",
    "                align_corners=False\n",
    "            )\n",
    "        \n",
    "        loss = criterion(outputs, targets1)\n",
    "        test_loss += loss\n",
    "\n",
    "avg_test_loss = float(test_loss/test_loader_size)\n",
    "\n",
    "print(f\"Test Loss = {avg_test_loss:.4f}\")\n",
    "\n",
    "if check:\n",
    "    torch.cuda.empty_cache()"
   ]
  },
  {
   "cell_type": "markdown",
   "id": "39347bb0",
   "metadata": {},
   "source": [
    "### Saving Prediction"
   ]
  },
  {
   "cell_type": "markdown",
   "id": "c048221d",
   "metadata": {},
   "source": [
    "We are going to save images like the one shown below where the **Original, Target and Predicted** Images will be shown side by side\n",
    "\n",
    "![Alt Text](analysis/comparison_7.png)"
   ]
  },
  {
   "cell_type": "markdown",
   "id": "b3c16d00",
   "metadata": {},
   "source": [
    "Provide directories where the above predictions for all images in **train, val and test loaders** can be saved in **three separate directories**"
   ]
  },
  {
   "cell_type": "code",
   "execution_count": null,
   "id": "56ad2ecc",
   "metadata": {},
   "outputs": [],
   "source": [
    "train_output_dir = r''\n",
    "val_output_dir = r''\n",
    "test_output_dir = r''\n",
    "\n",
    "os.makedirs(train_output_dir,exist_ok=True)\n",
    "os.makedirs(val_output_dir, exist_ok=True)\n",
    "os.makedirs(test_output_dir, exist_ok=True)"
   ]
  },
  {
   "cell_type": "code",
   "execution_count": null,
   "id": "cb221d0a",
   "metadata": {},
   "outputs": [],
   "source": [
    "save_preds(model,train_loader,device,train_output_dir,dataset.color_to_class)\n",
    "save_preds(model,val_loader,device,val_output_dir,dataset.color_to_class)\n",
    "save_preds(model,test_loader,device,test_output_dir,dataset.color_to_class)"
   ]
  }
 ],
 "metadata": {
  "kernelspec": {
   "display_name": "pytorch",
   "language": "python",
   "name": "python3"
  },
  "language_info": {
   "codemirror_mode": {
    "name": "ipython",
    "version": 3
   },
   "file_extension": ".py",
   "mimetype": "text/x-python",
   "name": "python",
   "nbconvert_exporter": "python",
   "pygments_lexer": "ipython3",
   "version": "3.11.9"
  }
 },
 "nbformat": 4,
 "nbformat_minor": 5
}
